{
  "nbformat": 4,
  "nbformat_minor": 0,
  "metadata": {
    "colab": {
      "name": "ML_for_Absolute_Beginners.ipynb",
      "version": "0.3.2",
      "provenance": [],
      "private_outputs": true,
      "collapsed_sections": [],
      "include_colab_link": true
    },
    "kernelspec": {
      "name": "python3",
      "display_name": "Python 3"
    },
    "accelerator": "GPU"
  },
  "cells": [
    {
      "cell_type": "markdown",
      "metadata": {
        "id": "view-in-github",
        "colab_type": "text"
      },
      "source": [
        "<a href=\"https://colab.research.google.com/github/ccwilliamsut/ml_beginners/blob/master/Intro_ML_for_Absolute_Beginners.ipynb\" target=\"_parent\"><img src=\"https://colab.research.google.com/assets/colab-badge.svg\" alt=\"Open In Colab\"/></a>"
      ]
    },
    {
      "cell_type": "markdown",
      "metadata": {
        "id": "ZkbK9oeMzWbH",
        "colab_type": "text"
      },
      "source": [
        "This basic project is based on the same type of project found in *Machine Learning for Absolute Beginners: A Plain English Introduction* by Oliver Theobald\n",
        "\n",
        "\n",
        "---\n",
        "\n",
        "\n",
        "![Machine Learning for Absolute Beginners](https://images-na.ssl-images-amazon.com/images/I/413%2BI3pEaXL.jpg)\n",
        "\n",
        "\n",
        "---\n",
        "\n",
        "\n",
        "Much of the code for this lesson can be found in Chapter 14 of his book, and the optional Grid Search code can be found at the end of that chapter as well.\n",
        "\n",
        "His book is an excellent introduction for those just beginning their machine learning journey. Though this class introduces a number of principles found in that text, I highly recommend buying the book yourself and proceed through it after your experience here. He walks the reader through a number of important concepts that are too extensive for this course, but his writing is clear and he does a spectacular job of explaining difficult topics to ensure understanding. Additionally, he provides a number of datasets and examples which the reader can tackle after getting down the basics. \n",
        "\n",
        "The book can be found here if you are interested: [Machine Learning for Absolute Beginners](https://www.amazon.com/Machine-Learning-Absolute-Beginners-Introduction/dp/1549617214/ref=sr_1_1?crid=1AF1PFSE85G4F&keywords=machine+learning+for+absolute+beginners+a+plain+english+introduction&qid=1563399014&s=gateway&sprefix=machine+learning+for+absolute+beginners+%2Caps%2C326&sr=8-1)\n",
        "\n"
      ]
    },
    {
      "cell_type": "markdown",
      "metadata": {
        "id": "_9nMpy48pbm3",
        "colab_type": "text"
      },
      "source": [
        "# Step 1: Preliminary Work\n",
        "## A: Download the dataset\n",
        "Open a web browser and download the dataset at this link: [Sydney Housing Data](https://www.kaggle.com/anthonypino/melbourne-housing-market/)\n",
        "\n",
        "1.   If you are not a member, you will need to register for an account\n",
        "2.   Once registered, click the \"Download\" button and download the dataset\n",
        "3.   Leave the dataset in the *Downloads* folder and unzip it (if you move the dataset, then note where you have placed it for future reference in the code)\n",
        "\n",
        "> *Note: If you are in my beginner's class, then the data has already been downloaded and is located in the Downloads folder*\n",
        "\n",
        "## B: Analyze the dataset\n",
        "Now that we have our data downloaded, we can analyze it in various ways to get familiar with it\n",
        "- How many columns (features)?\n",
        "- How many rows (samples)?\n",
        "- Are there any missing data? If so, where? How many samples are affected?\n",
        "- Are there things that we can fix to make it more usable?\n",
        "- How spread out is the data (what is the variance)?\n",
        "\n",
        "We analyze the data in order to become familiar with it, but also to see what state the data is in and what needs to be done in order to make it more useful. This is known as *data scrubbing*, and it is a large part of any data scientist's work.\n",
        "\n",
        "We also need to see how we can manipulate things to make them more usable, known as *feature engineering*. We do this for a number of reasons, but the primary ones are so that we can change any text-based data into numerical data and to reduce the number of features, where possible, in order to make our model more optimized. The more features one introduces, the more complex the model becomes and the slower it will run (often without any added benefits)."
      ]
    },
    {
      "cell_type": "code",
      "metadata": {
        "id": "kdKXZNjr_aH7",
        "colab_type": "code",
        "colab": {}
      },
      "source": [
        "# Import the pandas library (to work with data files)\n",
        "import pandas as pd\n",
        "\n",
        "# Set the URL for the data file\n",
        "url = 'https://raw.githubusercontent.com/ccwilliamsut/ml_beginners/master/Melbourne_housing_FULL.csv'\n",
        "\n",
        "# Import the datafile from the provided url and run the cell\n",
        "df = pd.read_csv(url)\n",
        "\n",
        "# Test that the data was imported correctly (look at the first 10 rows of the file)\n",
        "print(df.head(10))\n"
      ],
      "execution_count": 0,
      "outputs": []
    },
    {
      "cell_type": "markdown",
      "metadata": {
        "id": "aT_VQiy3iITH",
        "colab_type": "text"
      },
      "source": [
        "Run the above code (either with the \"play\" button or by **selecting the cell** and then choosing **Runtime -->  Run the focused cell** from the menu).\n",
        "\n",
        "If you do not see data in the frame above, then consult this [link](https://towardsdatascience.com/3-ways-to-load-csv-files-into-colab-7c14fcbdcb92) to learn how to work with data files in Colaboratory.\n",
        "       \n",
        "            \n",
        "            \n",
        "\n",
        "\n",
        "---\n",
        "\n",
        "## C: Locate specific records within a dataset\n",
        "\n",
        "Next, let's see how to look at individual samples (records) within the dataframe. The way that you do this is by using the `iloc[]` command. \n",
        "\n",
        "For this example, we will look for record 27: `df.iloc[27]`"
      ]
    },
    {
      "cell_type": "code",
      "metadata": {
        "id": "9e8d4tOoz_8U",
        "colab_type": "code",
        "colab": {}
      },
      "source": [
        "# Look at a specific sample (record) in the dataset\n",
        "df.iloc[27]"
      ],
      "execution_count": 0,
      "outputs": []
    },
    {
      "cell_type": "markdown",
      "metadata": {
        "id": "5u68J7Ht0tpx",
        "colab_type": "text"
      },
      "source": [
        "You should see the individual features (columns) of the record displayed below the code. Feel free to look up other records within the file by simply changing the 27 to the desired number.\n",
        "\n",
        "\n",
        "---\n",
        "\n",
        "## D: Looking at column headers\n",
        "\n",
        "If we want to see the names of the columns (headers), we can simply issue the **columns** command:\n",
        "\n",
        "--> **df.columns**"
      ]
    },
    {
      "cell_type": "code",
      "metadata": {
        "id": "GcvpBT4H2ap-",
        "colab_type": "code",
        "colab": {}
      },
      "source": [
        "# Print the names of the column headers\n",
        "df.columns"
      ],
      "execution_count": 0,
      "outputs": []
    },
    {
      "cell_type": "markdown",
      "metadata": {
        "id": "1u8pS3hp3jH3",
        "colab_type": "text"
      },
      "source": [
        "# Step 2: Build a Decision Tree Model with Python\n",
        "## 1. Import appropriate common libraries\n",
        "\n",
        "For this project, we will draw on the following libraries (commonly used for machine learning projects):\n",
        "\n",
        "- pandas (imported previously during preliminary steps, but added again for illustration purposes)\n",
        "- sklearn (scikit-learn)"
      ]
    },
    {
      "cell_type": "code",
      "metadata": {
        "id": "YOx9BMbKdRIM",
        "colab_type": "code",
        "colab": {}
      },
      "source": [
        "# Import libraries\n",
        "import pandas as pd\n",
        "from sklearn.model_selection import train_test_split \n",
        "from sklearn import ensemble \n",
        "from sklearn.metrics import mean_absolute_error \n",
        "from sklearn.externals import joblib\n"
      ],
      "execution_count": 0,
      "outputs": []
    }
  ]
}
